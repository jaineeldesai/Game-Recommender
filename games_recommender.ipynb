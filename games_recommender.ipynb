{
 "cells": [
  {
   "cell_type": "markdown",
   "id": "c660b49e",
   "metadata": {},
   "source": [
    "# Games Recommender\n",
    "\n",
    "## Part 2- Building the recommender"
   ]
  },
  {
   "cell_type": "code",
   "execution_count": 1,
   "id": "3a1bfa6b",
   "metadata": {},
   "outputs": [],
   "source": [
    "import pandas as pd\n",
    "import numpy as np\n",
    "import re\n",
    "import random\n",
    "import pickle\n",
    "pd.set_option('display.max_columns',None)\n",
    "from IPython.display import Image, display, clear_output, HTML\n",
    "import traceback"
   ]
  },
  {
   "cell_type": "markdown",
   "id": "be61e4ab",
   "metadata": {},
   "source": [
    "### Loading the datasets and models"
   ]
  },
  {
   "cell_type": "code",
   "execution_count": 2,
   "id": "2085ca38",
   "metadata": {},
   "outputs": [],
   "source": [
    "game_clusters=pd.read_csv('datasets/games_wt_clusters.csv',index_col=0)"
   ]
  },
  {
   "cell_type": "code",
   "execution_count": 3,
   "id": "a0b24e14",
   "metadata": {
    "scrolled": false
   },
   "outputs": [
    {
     "data": {
      "text/html": [
       "<div>\n",
       "<style scoped>\n",
       "    .dataframe tbody tr th:only-of-type {\n",
       "        vertical-align: middle;\n",
       "    }\n",
       "\n",
       "    .dataframe tbody tr th {\n",
       "        vertical-align: top;\n",
       "    }\n",
       "\n",
       "    .dataframe thead th {\n",
       "        text-align: right;\n",
       "    }\n",
       "</style>\n",
       "<table border=\"1\" class=\"dataframe\">\n",
       "  <thead>\n",
       "    <tr style=\"text-align: right;\">\n",
       "      <th></th>\n",
       "      <th>title</th>\n",
       "      <th>release_date</th>\n",
       "      <th>developers</th>\n",
       "      <th>summary</th>\n",
       "      <th>platforms</th>\n",
       "      <th>genres</th>\n",
       "      <th>rating</th>\n",
       "      <th>plays</th>\n",
       "      <th>playing</th>\n",
       "      <th>backlogs</th>\n",
       "      <th>wishlist</th>\n",
       "      <th>lists</th>\n",
       "      <th>reviews</th>\n",
       "      <th>clusters</th>\n",
       "    </tr>\n",
       "  </thead>\n",
       "  <tbody>\n",
       "    <tr>\n",
       "      <th>0</th>\n",
       "      <td>Elden Ring</td>\n",
       "      <td>2022-02-25</td>\n",
       "      <td>['FromSoftware', 'Bandai Namco Entertainment']</td>\n",
       "      <td>Elden Ring is a fantasy, action and open world...</td>\n",
       "      <td>['windows pc', 'playstation 4', 'xbox one', 'p...</td>\n",
       "      <td>['adventure', 'rpg']</td>\n",
       "      <td>4.5</td>\n",
       "      <td>21000</td>\n",
       "      <td>4100</td>\n",
       "      <td>5600</td>\n",
       "      <td>5500</td>\n",
       "      <td>4600</td>\n",
       "      <td>3000</td>\n",
       "      <td>28</td>\n",
       "    </tr>\n",
       "    <tr>\n",
       "      <th>1</th>\n",
       "      <td>The Legend of Zelda: Breath of the Wild</td>\n",
       "      <td>2017-03-03</td>\n",
       "      <td>['Nintendo', 'Nintendo EPD Production Group No...</td>\n",
       "      <td>The Legend of Zelda: Breath of the Wild is the...</td>\n",
       "      <td>['wii u', 'nintendo switch']</td>\n",
       "      <td>['adventure', 'puzzle']</td>\n",
       "      <td>4.4</td>\n",
       "      <td>35000</td>\n",
       "      <td>3100</td>\n",
       "      <td>5600</td>\n",
       "      <td>3000</td>\n",
       "      <td>5100</td>\n",
       "      <td>3000</td>\n",
       "      <td>43</td>\n",
       "    </tr>\n",
       "    <tr>\n",
       "      <th>2</th>\n",
       "      <td>Hades</td>\n",
       "      <td>2018-12-07</td>\n",
       "      <td>['Supergiant Games']</td>\n",
       "      <td>A rogue-lite hack and slash dungeon crawler in...</td>\n",
       "      <td>['windows pc', 'mac', 'playstation 4', 'xbox o...</td>\n",
       "      <td>['adventure', 'brawler', 'indie', 'rpg']</td>\n",
       "      <td>4.3</td>\n",
       "      <td>25000</td>\n",
       "      <td>3500</td>\n",
       "      <td>7300</td>\n",
       "      <td>4000</td>\n",
       "      <td>3200</td>\n",
       "      <td>2100</td>\n",
       "      <td>8</td>\n",
       "    </tr>\n",
       "    <tr>\n",
       "      <th>3</th>\n",
       "      <td>Hollow Knight</td>\n",
       "      <td>2017-02-24</td>\n",
       "      <td>['Team Cherry']</td>\n",
       "      <td>A 2D metroidvania with an emphasis on close co...</td>\n",
       "      <td>['windows pc', 'mac', 'linux', 'nintendo switch']</td>\n",
       "      <td>['adventure', 'indie', 'platform']</td>\n",
       "      <td>4.4</td>\n",
       "      <td>25000</td>\n",
       "      <td>2700</td>\n",
       "      <td>9600</td>\n",
       "      <td>2600</td>\n",
       "      <td>3400</td>\n",
       "      <td>2100</td>\n",
       "      <td>11</td>\n",
       "    </tr>\n",
       "    <tr>\n",
       "      <th>4</th>\n",
       "      <td>Undertale</td>\n",
       "      <td>2015-09-15</td>\n",
       "      <td>['tobyfox', '8-4']</td>\n",
       "      <td>A small child falls into the Underground, wher...</td>\n",
       "      <td>['windows pc', 'mac', 'linux', 'playstation 4'...</td>\n",
       "      <td>['adventure', 'indie', 'rpg', 'turn based stra...</td>\n",
       "      <td>4.2</td>\n",
       "      <td>32000</td>\n",
       "      <td>728</td>\n",
       "      <td>5700</td>\n",
       "      <td>2100</td>\n",
       "      <td>3900</td>\n",
       "      <td>2500</td>\n",
       "      <td>18</td>\n",
       "    </tr>\n",
       "  </tbody>\n",
       "</table>\n",
       "</div>"
      ],
      "text/plain": [
       "                                     title release_date  \\\n",
       "0                               Elden Ring   2022-02-25   \n",
       "1  The Legend of Zelda: Breath of the Wild   2017-03-03   \n",
       "2                                    Hades   2018-12-07   \n",
       "3                            Hollow Knight   2017-02-24   \n",
       "4                                Undertale   2015-09-15   \n",
       "\n",
       "                                          developers  \\\n",
       "0     ['FromSoftware', 'Bandai Namco Entertainment']   \n",
       "1  ['Nintendo', 'Nintendo EPD Production Group No...   \n",
       "2                               ['Supergiant Games']   \n",
       "3                                    ['Team Cherry']   \n",
       "4                                 ['tobyfox', '8-4']   \n",
       "\n",
       "                                             summary  \\\n",
       "0  Elden Ring is a fantasy, action and open world...   \n",
       "1  The Legend of Zelda: Breath of the Wild is the...   \n",
       "2  A rogue-lite hack and slash dungeon crawler in...   \n",
       "3  A 2D metroidvania with an emphasis on close co...   \n",
       "4  A small child falls into the Underground, wher...   \n",
       "\n",
       "                                           platforms  \\\n",
       "0  ['windows pc', 'playstation 4', 'xbox one', 'p...   \n",
       "1                       ['wii u', 'nintendo switch']   \n",
       "2  ['windows pc', 'mac', 'playstation 4', 'xbox o...   \n",
       "3  ['windows pc', 'mac', 'linux', 'nintendo switch']   \n",
       "4  ['windows pc', 'mac', 'linux', 'playstation 4'...   \n",
       "\n",
       "                                              genres  rating  plays  playing  \\\n",
       "0                               ['adventure', 'rpg']     4.5  21000     4100   \n",
       "1                            ['adventure', 'puzzle']     4.4  35000     3100   \n",
       "2           ['adventure', 'brawler', 'indie', 'rpg']     4.3  25000     3500   \n",
       "3                 ['adventure', 'indie', 'platform']     4.4  25000     2700   \n",
       "4  ['adventure', 'indie', 'rpg', 'turn based stra...     4.2  32000      728   \n",
       "\n",
       "   backlogs  wishlist  lists  reviews  clusters  \n",
       "0      5600      5500   4600     3000        28  \n",
       "1      5600      3000   5100     3000        43  \n",
       "2      7300      4000   3200     2100         8  \n",
       "3      9600      2600   3400     2100        11  \n",
       "4      5700      2100   3900     2500        18  "
      ]
     },
     "execution_count": 3,
     "metadata": {},
     "output_type": "execute_result"
    }
   ],
   "source": [
    "game_clusters.head()"
   ]
  },
  {
   "cell_type": "code",
   "execution_count": 4,
   "id": "5b5faadd",
   "metadata": {},
   "outputs": [],
   "source": [
    "pl_cols=list(pickle.load(open('datasets/pl_cols.pkl', 'rb')))\n",
    "ge_cols=list(pickle.load(open('datasets/ge_cols.pkl', 'rb')))"
   ]
  },
  {
   "cell_type": "code",
   "execution_count": 5,
   "id": "03a69472",
   "metadata": {},
   "outputs": [],
   "source": [
    "scaler=pickle.load(open('models/scaler.sav','rb'))\n",
    "model= pickle.load(open('models/cluster_model.sav','rb'))"
   ]
  },
  {
   "cell_type": "markdown",
   "id": "d164f9bf",
   "metadata": {},
   "source": [
    "### Recommendation using Webscraping"
   ]
  },
  {
   "cell_type": "markdown",
   "id": "cfa04ee1",
   "metadata": {},
   "source": [
    "- Website used for scraping game data: \\\n",
    "https://www.backloggd.com/"
   ]
  },
  {
   "cell_type": "code",
   "execution_count": 6,
   "id": "ff349bdc",
   "metadata": {},
   "outputs": [],
   "source": [
    "from bs4 import BeautifulSoup\n",
    "import requests"
   ]
  },
  {
   "cell_type": "code",
   "execution_count": 7,
   "id": "4dd992d5",
   "metadata": {},
   "outputs": [],
   "source": [
    "pd.set_option('display.max_colwidth',None)"
   ]
  },
  {
   "cell_type": "code",
   "execution_count": 8,
   "id": "0cf622ec",
   "metadata": {},
   "outputs": [],
   "source": [
    "def clean_name(name):\n",
    "    \n",
    "    '''\n",
    "    Lowers the game title\n",
    "    Converts any special character to -\n",
    "    é to e- special case for pokémon games\n",
    "    '''\n",
    "    \n",
    "    name = name.lower()\n",
    "    name = re.sub(\"'\", '', name)\n",
    "    name = re.sub(\"é\",'e',name) \n",
    "    name = re.sub(r'[^a-zA-Z0-9]+', '-', name)\n",
    "    return name"
   ]
  },
  {
   "cell_type": "code",
   "execution_count": 9,
   "id": "6e237a80",
   "metadata": {},
   "outputs": [],
   "source": [
    "game_clusters['title']=game_clusters['title'].apply(clean_name)"
   ]
  },
  {
   "cell_type": "markdown",
   "id": "fa7abd78",
   "metadata": {},
   "source": [
    "- The name should match the site's search url to get info for the game \\\n",
    "https://www.backloggd.com/games/super-mario-world\n",
    "\n",
    "- Super Mario World -> super-mario-world"
   ]
  },
  {
   "cell_type": "code",
   "execution_count": 43,
   "id": "a87e7fe3",
   "metadata": {
    "scrolled": false
   },
   "outputs": [],
   "source": [
    "def start():\n",
    "    \n",
    "    '''\n",
    "    Takes game name as user-input \n",
    "    Calls function get_info()\n",
    "    if input is 'Quit' then stop!\n",
    "    '''   \n",
    "    \n",
    "    x=input(\"Enter the game you have played ('Quit' to exit): \\n\")\n",
    "    if x.lower()!='quit':\n",
    "        get_info(x)\n",
    "    else:\n",
    "        clear_output(wait=True)\n",
    "        print('Hope you enjoy the recommendation!')\n",
    "        print('Have fun playing!')"
   ]
  },
  {
   "cell_type": "code",
   "execution_count": 44,
   "id": "75656cb9",
   "metadata": {},
   "outputs": [],
   "source": [
    "def get_info(game):\n",
    "    \n",
    "    '''\n",
    "    Searches for the game given by user\n",
    "    Shows top searches and tells user to select their game from it\n",
    "    If their game is not available in the top search, -1 to search game again\n",
    "    Once selected a game from search, calls function get_game_data()\n",
    "    Makes cluster prediction using the retrieved game data\n",
    "    Calls function recommend()\n",
    "    '''  \n",
    "    \n",
    "    url=f'https://www.backloggd.com/search/games/{game}'\n",
    "    response=requests.get(url)\n",
    "    soup=BeautifulSoup(response.content,\"html.parser\")\n",
    "    \n",
    "    # dataframe consisting of search results\n",
    "    search=pd.DataFrame(columns=['name'])\n",
    "    \n",
    "    for n in soup.select('div > a > h3'):\n",
    "        nm = n.get_text().strip()\n",
    "        search=pd.concat([search,pd.DataFrame({'name':[nm]})],ignore_index=True)\n",
    "\n",
    "    display(search)\n",
    "    \n",
    "    # user-input to select a game from search df\n",
    "    print('If you dont like what you see, type: -1', '\\n')\n",
    "    b= input('Enter the number you see your title on: ')\n",
    "    \n",
    "    if b=='-1':\n",
    "        clear_output()\n",
    "        print('Search again- ')\n",
    "        start()\n",
    "    else:\n",
    "        b=int(b)\n",
    "        try:\n",
    "            # mirror's edge -> mirrors-edge\n",
    "            print('\\nFirst try')\n",
    "            name=clean_name(search['name'][b])\n",
    "            final_df,rating = get_game_data(name)\n",
    "            cluster = model.predict(final_df)[0]\n",
    "            clear_output(wait=True)\n",
    "            print(search['name'][b])\n",
    "            print('Rating: ', rating,'\\n')\n",
    "            recommend(name,rating,cluster)          \n",
    "        except:\n",
    "            try:\n",
    "                \n",
    "                print('Second try')\n",
    "                name=search['name'][b]\n",
    "                name=re.sub('&','and',name)\n",
    "                name=clean_name(name)\n",
    "                final_df,rating = get_game_data(name)\n",
    "                cluster = model.predict(final_df)[0]\n",
    "                clear_output(wait=True)\n",
    "                print(search['name'][b])\n",
    "                print('Rating: ', rating,'\\n')\n",
    "                recommend(name,rating,cluster)\n",
    "            except:\n",
    "                try:\n",
    "                    # mirror's edge -> mirror-s-edge\n",
    "                    print('Third try')\n",
    "                    name=search['name'][b]\n",
    "                    name = re.sub(r'[^a-zA-Z0-9é]+', '-', name).lower()\n",
    "                    name = re.sub(\"é\",'e',name)\n",
    "                    final_df,rating = get_game_data(name)\n",
    "                    cluster = model.predict(final_df)[0]\n",
    "                    clear_output()\n",
    "                    print(search['name'][b])\n",
    "                    print('Rating: ', rating,'\\n')\n",
    "                    recommend(name,rating,cluster)\n",
    "                except:\n",
    "                    try:\n",
    "                        print('Last try')\n",
    "                        name=search['name'][b]\n",
    "                        name=re.sub('\\+','plus',name)\n",
    "                        name=clean_name(name)\n",
    "                        print(name)\n",
    "                        final_df,rating = get_game_data(name)\n",
    "                        cluster = model.predict(final_df)[0]\n",
    "                        clear_output()\n",
    "                        print(search['name'][b])\n",
    "                        print('Rating: ', rating,'\\n')\n",
    "                        recommend(name,rating,cluster)\n",
    "                    except:\n",
    "                        clear_output(wait=True)\n",
    "                        #traceback.print_exc()\n",
    "                        print('Unavailable!', '\\n')\n",
    "                        print('Try another...')\n",
    "                        get_info(game)"
   ]
  },
  {
   "cell_type": "code",
   "execution_count": 45,
   "id": "dae77a99",
   "metadata": {},
   "outputs": [],
   "source": [
    "def get_game_data(name):\n",
    "    \n",
    "    '''\n",
    "    Finds all the parameters of the game required for predicting cluster\n",
    "    Scales and transform as needed for the model\n",
    "    Returns the dataframe\n",
    "    '''\n",
    "    \n",
    "    url2=f\"https://www.backloggd.com/games/{name}/\"\n",
    "    response=requests.get(url2)\n",
    "    soup=BeautifulSoup(response.content,\"html.parser\")\n",
    "    \n",
    "    # getting categorical data: platforms and genres\n",
    "    platforms=pd.DataFrame(0,index=[0],columns=pl_cols)\n",
    "    genres= pd.DataFrame(0,index=[0],columns=ge_cols)\n",
    "    \n",
    "    pf=[]   \n",
    "    for  p in soup.select('div > a.game-page-platform '):\n",
    "        pf.append(p.get_text().strip().lower().replace(' ','_'))\n",
    "    \n",
    "    for i in pf:\n",
    "        if i in platforms.columns:\n",
    "            platforms[i]=1\n",
    "            \n",
    "    ge=[]\n",
    "    for g in soup.select('div > p.genre-tag > a'):\n",
    "        ge.append(g.get_text().strip().lower().replace(' ','_'))\n",
    "    \n",
    "    for g in ge:\n",
    "        if g in genres.columns:\n",
    "            genres[g]=1\n",
    "    \n",
    "    #getting numerical data\n",
    "    num_data=numeric_data(soup)\n",
    "    \n",
    "    #scaling the numerical data\n",
    "    num_trans=pd.DataFrame(scaler.transform(num_data),columns= num_data.columns)\n",
    "    \n",
    "    final_data=pd.concat([num_trans,platforms,genres],axis=1)\n",
    "    \n",
    "    return final_data, num_data['rating'][0]"
   ]
  },
  {
   "cell_type": "code",
   "execution_count": 46,
   "id": "66fffcd1",
   "metadata": {},
   "outputs": [],
   "source": [
    "def recommend(name,rating,cluster):\n",
    "    '''\n",
    "    Chooses a random game based on the predicted cluster for the user game\n",
    "    Tries to recommend game with rating higher or equal to user game\n",
    "    Else recommends any game from the cluster\n",
    "    Retrieves game data and cover art for the recommended game\n",
    "    Asks for a new recommendation for the same user game\n",
    "    If no start again or quit\n",
    "    '''\n",
    "       \n",
    "    while True:\n",
    "\n",
    "        recommend=game_clusters[(game_clusters['clusters']==cluster) & (game_clusters['title']!=name)].reset_index(drop=True)\n",
    "        \n",
    "        try:\n",
    "            game=random.choice(recommend['title'][recommend['rating']>=rating].values)\n",
    "        except Exception as e:\n",
    "            print(e)\n",
    "            game=random.choice(recommend['title'].values)\n",
    "\n",
    "        url3=f\"https://www.backloggd.com/games/{game}/\"\n",
    "        response=requests.get(url3)\n",
    "        soup=BeautifulSoup(response.content,\"html.parser\")\n",
    "\n",
    "        #getting the title, release date and developers for the recommended game\n",
    "        title=pd.DataFrame(0,index=[0],columns=['Title','Release Date'])\n",
    "\n",
    "        title['Title']=soup.select(' #title > div > div > div > h1')[0].get_text().strip()\n",
    "        title['Release Date']= soup.select('span > a')[0].get_text().strip()\n",
    "\n",
    "        de=[]\n",
    "        for d in soup.select('#title > div > a:nth-child(n)'):\n",
    "            de.append(d.get_text().strip())\n",
    "        title['Developers & Publishers']= ', '.join(de)\n",
    "\n",
    "        #available platforms for the recommended\n",
    "        pf=[]   \n",
    "        for  p in soup.select('div > a.game-page-platform '):\n",
    "            pf.append(p.get_text().strip())\n",
    "        title['Available Platforms']=', '.join(pf)\n",
    "\n",
    "        #genres of the recommended\n",
    "        ge=[]\n",
    "        for g in soup.select('div > p.genre-tag > a'):\n",
    "            ge.append(g.get_text().strip())\n",
    "        title['Genres']=', '.join(ge)\n",
    "\n",
    "\n",
    "        print(\"Here's my recommendation-\")\n",
    "\n",
    "        #getting the ratings and player stats for the recommended\n",
    "        players=numeric_data(soup)\n",
    "        players.columns=[i.capitalize() for i in players.columns ]\n",
    "\n",
    "        for i in soup.select('#interaction-sidebar > div:nth-child(n) > div > div > div > img'):\n",
    "            img_url=i['src']\n",
    "\n",
    "        #displaying details of the recommended game\n",
    "        display(Image(img_url))\n",
    "        display(title.T.rename(columns={0:'Game Info'}))\n",
    "        display(players.T.rename(columns={0:'Rating and Stats'}))\n",
    "\n",
    "        html_link= f'<a href={url3} target=\"_blank\">click here</a>'\n",
    "        display(HTML(\"To know more about this game and read some reviews, \" \n",
    "                     +html_link))\n",
    "\n",
    "        print('\\n')\n",
    "        c=input('Would you like another recommendation your game (Y) or new recommendation (N): ')\n",
    "        if c.lower()!='y':\n",
    "            clear_output(wait=True)\n",
    "            start()\n",
    "            break\n",
    "        else:\n",
    "            clear_output(wait=True)"
   ]
  },
  {
   "cell_type": "code",
   "execution_count": 47,
   "id": "05b21096",
   "metadata": {},
   "outputs": [],
   "source": [
    "def numeric_data(soup):\n",
    "    \n",
    "    num_data=pd.DataFrame(0,index=[0],columns=['rating','plays','playing','backlogs','wishlist','lists','reviews'])\n",
    "    \n",
    "    num_data['rating']= float(soup.select('#score > h1')[0].get_text().strip())\n",
    "    \n",
    "    for index, column in enumerate(num_data.columns[1:5]):\n",
    "        num_data[column]=soup.select('div.col-auto.ml-auto.pl-0 > p')[index].get_text().strip()\n",
    "        num_data[column]=num_data[column].replace({\"K\":\"*1e3\"}, regex=True).map(pd.eval).astype(int)\n",
    "    \n",
    "    for index, column in enumerate(num_data.columns[5:]):\n",
    "        num_data[column]=soup.select('div > a > p.game-page-sidecard')[index].get_text().strip()\n",
    "        num_data[column]=num_data[column].str.split(' ').str[0]\n",
    "        num_data[column]=num_data[column].replace({\"K\":\"*1e3\"}, regex=True).map(pd.eval).astype(int)\n",
    "    \n",
    "    return num_data\n",
    "        "
   ]
  },
  {
   "cell_type": "code",
   "execution_count": 48,
   "id": "1077cb39",
   "metadata": {},
   "outputs": [
    {
     "name": "stdout",
     "output_type": "stream",
     "text": [
      "Hope you enjoy the recommendation!\n",
      "Have fun playing!\n"
     ]
    }
   ],
   "source": [
    "start()"
   ]
  },
  {
   "cell_type": "code",
   "execution_count": null,
   "id": "6aac8de2",
   "metadata": {},
   "outputs": [],
   "source": []
  },
  {
   "cell_type": "code",
   "execution_count": null,
   "id": "7eaac2d5",
   "metadata": {},
   "outputs": [],
   "source": []
  },
  {
   "cell_type": "markdown",
   "id": "658226ab",
   "metadata": {},
   "source": [
    "for try 3:\n",
    "Mirror's Edge\n",
    "\n",
    "for try 4: Mario + Rabbids Kingdom Battle"
   ]
  },
  {
   "cell_type": "code",
   "execution_count": null,
   "id": "ede17b52",
   "metadata": {},
   "outputs": [],
   "source": []
  },
  {
   "cell_type": "code",
   "execution_count": null,
   "id": "6e61dff9",
   "metadata": {},
   "outputs": [],
   "source": []
  },
  {
   "cell_type": "code",
   "execution_count": null,
   "id": "f128e861",
   "metadata": {},
   "outputs": [],
   "source": []
  },
  {
   "cell_type": "code",
   "execution_count": null,
   "id": "f8c5ec33",
   "metadata": {},
   "outputs": [],
   "source": []
  },
  {
   "cell_type": "code",
   "execution_count": null,
   "id": "d4cf4eb4",
   "metadata": {},
   "outputs": [],
   "source": []
  },
  {
   "cell_type": "code",
   "execution_count": null,
   "id": "96e6977a",
   "metadata": {},
   "outputs": [],
   "source": []
  },
  {
   "cell_type": "code",
   "execution_count": null,
   "id": "962a4645",
   "metadata": {},
   "outputs": [],
   "source": []
  },
  {
   "cell_type": "code",
   "execution_count": null,
   "id": "f8a0c28f",
   "metadata": {},
   "outputs": [],
   "source": []
  },
  {
   "cell_type": "code",
   "execution_count": null,
   "id": "b761cb0e",
   "metadata": {},
   "outputs": [],
   "source": []
  },
  {
   "cell_type": "code",
   "execution_count": null,
   "id": "124e245c",
   "metadata": {},
   "outputs": [],
   "source": [
    "url= 'https://images.igdb.com/igdb/image/upload/t_cover_big/co4e44.jpg'"
   ]
  },
  {
   "cell_type": "code",
   "execution_count": 31,
   "id": "cc1af8de",
   "metadata": {},
   "outputs": [],
   "source": [
    "cluster=17"
   ]
  },
  {
   "cell_type": "code",
   "execution_count": 32,
   "id": "5ac09f56",
   "metadata": {},
   "outputs": [],
   "source": [
    "name='batman-arkham-city-game-of-the-year-edition'"
   ]
  },
  {
   "cell_type": "code",
   "execution_count": null,
   "id": "6bc8fc42",
   "metadata": {},
   "outputs": [],
   "source": []
  },
  {
   "cell_type": "code",
   "execution_count": 80,
   "id": "134a415e",
   "metadata": {},
   "outputs": [],
   "source": [
    "rating=3.5"
   ]
  },
  {
   "cell_type": "code",
   "execution_count": 81,
   "id": "a17c731d",
   "metadata": {},
   "outputs": [],
   "source": [
    "recom=game_clusters[(game_clusters['clusters']==cluster) & (game_clusters['title']!=name)].reset_index(drop=True)"
   ]
  },
  {
   "cell_type": "code",
   "execution_count": 82,
   "id": "5a8b6db8",
   "metadata": {},
   "outputs": [
    {
     "data": {
      "text/plain": [
       "(442, 14)"
      ]
     },
     "execution_count": 82,
     "metadata": {},
     "output_type": "execute_result"
    }
   ],
   "source": [
    "recom.shape"
   ]
  },
  {
   "cell_type": "code",
   "execution_count": 109,
   "id": "a43a8b6d",
   "metadata": {},
   "outputs": [
    {
     "data": {
      "text/plain": [
       "'batman-arkham-city-arkham-city-skins-pack'"
      ]
     },
     "execution_count": 109,
     "metadata": {},
     "output_type": "execute_result"
    }
   ],
   "source": [
    "random.choice(recom['title'].values)"
   ]
  },
  {
   "cell_type": "code",
   "execution_count": 84,
   "id": "ec37b5f6",
   "metadata": {},
   "outputs": [
    {
     "data": {
      "text/plain": [
       "0                                          portal-2\n",
       "1                                            portal\n",
       "2                     metal-gear-rising-revengeance\n",
       "3                                 fallout-new-vegas\n",
       "4                                         bayonetta\n",
       "                           ...                     \n",
       "418               call-of-duty-black-ops-escalation\n",
       "421    borderlands-the-pre-sequel-claptastic-voyage\n",
       "423                              nights-into-dreams\n",
       "429                   battlefield-3-back-to-karkand\n",
       "435          red-dead-redemption-outlaws-to-the-end\n",
       "Name: title, Length: 145, dtype: object"
      ]
     },
     "execution_count": 84,
     "metadata": {},
     "output_type": "execute_result"
    }
   ],
   "source": [
    "recom['title'][recom['rating']>=rating]"
   ]
  },
  {
   "cell_type": "code",
   "execution_count": 85,
   "id": "59e0c0b1",
   "metadata": {},
   "outputs": [
    {
     "data": {
      "text/plain": [
       "'lost-planet-2'"
      ]
     },
     "execution_count": 85,
     "metadata": {},
     "output_type": "execute_result"
    }
   ],
   "source": [
    "random.choice(recom['title'][recom['rating']<rating].values)"
   ]
  },
  {
   "cell_type": "code",
   "execution_count": 86,
   "id": "89a7e404",
   "metadata": {},
   "outputs": [
    {
     "data": {
      "text/plain": [
       "19             counter-strike-global-offensive\n",
       "20                             resident-evil-5\n",
       "24                                   fallout-3\n",
       "27                             assassins-creed\n",
       "31                             resident-evil-6\n",
       "                        ...                   \n",
       "437            batman-arkham-city-robin-bundle\n",
       "438    x-men-origins-wolverine-uncaged-edition\n",
       "439       call-of-duty-black-ops-ii-revolution\n",
       "440      earth-defense-force-insect-armageddon\n",
       "441                     sniper-ghost-warrior-2\n",
       "Name: title, Length: 297, dtype: object"
      ]
     },
     "execution_count": 86,
     "metadata": {},
     "output_type": "execute_result"
    }
   ],
   "source": [
    "recom['title'][recom['rating']<rating]"
   ]
  },
  {
   "cell_type": "code",
   "execution_count": null,
   "id": "95dc744a",
   "metadata": {},
   "outputs": [],
   "source": [
    "soup.select('#interaction-sidebar > div:nth-child(n) > div > div > div > img')"
   ]
  },
  {
   "cell_type": "code",
   "execution_count": null,
   "id": "4f9c9773",
   "metadata": {},
   "outputs": [],
   "source": [
    "soup.find_all('img', class_='card-img')"
   ]
  },
  {
   "cell_type": "code",
   "execution_count": null,
   "id": "63b88b8b",
   "metadata": {},
   "outputs": [],
   "source": [
    "for i in soup.select('div > div > div > div > img'):\n",
    "    print(i['src'])"
   ]
  },
  {
   "cell_type": "code",
   "execution_count": null,
   "id": "55c08a7f",
   "metadata": {},
   "outputs": [],
   "source": []
  },
  {
   "cell_type": "code",
   "execution_count": null,
   "id": "62d0b13d",
   "metadata": {},
   "outputs": [],
   "source": []
  },
  {
   "cell_type": "code",
   "execution_count": null,
   "id": "23787619",
   "metadata": {},
   "outputs": [],
   "source": []
  },
  {
   "cell_type": "code",
   "execution_count": null,
   "id": "2d2784e0",
   "metadata": {},
   "outputs": [],
   "source": []
  },
  {
   "cell_type": "code",
   "execution_count": null,
   "id": "f2fbc5eb",
   "metadata": {},
   "outputs": [],
   "source": []
  },
  {
   "cell_type": "code",
   "execution_count": null,
   "id": "3ae0db30",
   "metadata": {},
   "outputs": [],
   "source": []
  },
  {
   "cell_type": "code",
   "execution_count": null,
   "id": "cef51ccf",
   "metadata": {},
   "outputs": [],
   "source": []
  },
  {
   "cell_type": "code",
   "execution_count": null,
   "id": "ef5352cb",
   "metadata": {},
   "outputs": [],
   "source": [
    "# in the final function if you would like to search again or not"
   ]
  },
  {
   "cell_type": "code",
   "execution_count": null,
   "id": "522bb8ef",
   "metadata": {},
   "outputs": [],
   "source": [
    "players=pd.DataFrame(0,index=[0],columns=['rating','plays','playing','wishlist','reviews'])"
   ]
  },
  {
   "cell_type": "code",
   "execution_count": null,
   "id": "14594d4d",
   "metadata": {},
   "outputs": [],
   "source": [
    "players.columns=[i.capitalize() for i in players.columns ]"
   ]
  },
  {
   "cell_type": "code",
   "execution_count": null,
   "id": "db02ee41",
   "metadata": {},
   "outputs": [],
   "source": [
    "players"
   ]
  },
  {
   "cell_type": "code",
   "execution_count": null,
   "id": "7c1efbfc",
   "metadata": {},
   "outputs": [],
   "source": [
    "#interaction-sidebar > div:nth-child(1) > div.col.col-cover.px-sm-0.my-auto.mx-auto.mb-0.mb-sm-2.mb-lg-0 > div > div > img"
   ]
  },
  {
   "cell_type": "code",
   "execution_count": null,
   "id": "9a97e763",
   "metadata": {},
   "outputs": [],
   "source": []
  },
  {
   "cell_type": "code",
   "execution_count": null,
   "id": "62c9e2ac",
   "metadata": {
    "scrolled": true
   },
   "outputs": [],
   "source": [
    "# na=[]\n",
    "# year=[]\n",
    "# for n in soup.select('#my-posts > div:nth-child(n) > div > div.col.px-0 > div > div > div'):\n",
    "#     nm=n.get_text().strip()\n",
    "#     nm=re.sub('\\n+','\\n',nm)\n",
    "#     one=nm.split('\\n')[0]\n",
    "#     y=nm.split('\\n')[-1]\n",
    "#     na.append(one)\n",
    "#     year.append(y)\n",
    "# na"
   ]
  },
  {
   "cell_type": "code",
   "execution_count": null,
   "id": "b1f8ee2f",
   "metadata": {},
   "outputs": [],
   "source": [
    "#year"
   ]
  },
  {
   "cell_type": "code",
   "execution_count": null,
   "id": "86a5814f",
   "metadata": {},
   "outputs": [],
   "source": [
    "#soup.select('div > a')"
   ]
  },
  {
   "cell_type": "code",
   "execution_count": null,
   "id": "eecca90d",
   "metadata": {},
   "outputs": [],
   "source": [
    "#score > h1"
   ]
  },
  {
   "cell_type": "code",
   "execution_count": null,
   "id": "80c11093",
   "metadata": {},
   "outputs": [],
   "source": [
    "#used in get_game_data-\n",
    "#name = search['Name'][b].lower()\n",
    "#name = re.sub(\"'\",'',name)\n",
    "#name = re.sub(r'[^a-zA-Z0-9]+', '-', name)"
   ]
  },
  {
   "cell_type": "code",
   "execution_count": null,
   "id": "322d8577",
   "metadata": {},
   "outputs": [],
   "source": [
    "get_info(x)"
   ]
  },
  {
   "cell_type": "code",
   "execution_count": null,
   "id": "c1eea9b0",
   "metadata": {},
   "outputs": [],
   "source": [
    "x=input('Enter a game title: ')"
   ]
  },
  {
   "cell_type": "code",
   "execution_count": null,
   "id": "380eabcf",
   "metadata": {},
   "outputs": [],
   "source": [
    "url=f'https://www.backloggd.com/search/games/{x}'\n",
    "\n",
    "response=requests.get(url)"
   ]
  },
  {
   "cell_type": "code",
   "execution_count": null,
   "id": "ce945c05",
   "metadata": {},
   "outputs": [],
   "source": [
    "response"
   ]
  },
  {
   "cell_type": "code",
   "execution_count": null,
   "id": "b372a047",
   "metadata": {},
   "outputs": [],
   "source": [
    "soup=BeautifulSoup(response.content,\"html.parser\")"
   ]
  },
  {
   "cell_type": "code",
   "execution_count": null,
   "id": "d77a1c9e",
   "metadata": {},
   "outputs": [],
   "source": [
    "#soup"
   ]
  },
  {
   "cell_type": "code",
   "execution_count": null,
   "id": "00f2756c",
   "metadata": {},
   "outputs": [],
   "source": [
    "#my-posts > div:nth-child(1) > div > div.col.px-0 > div > div > div > div.col-auto.px-0.game-name > a > h3"
   ]
  },
  {
   "cell_type": "code",
   "execution_count": null,
   "id": "3dba7bf3",
   "metadata": {},
   "outputs": [],
   "source": [
    "#soup.select('#my-posts > div:nth-child(n) > div > div > div > div > div > div > a > h3')"
   ]
  },
  {
   "cell_type": "code",
   "execution_count": null,
   "id": "4152e4e9",
   "metadata": {},
   "outputs": [],
   "source": [
    "# name=[]\n",
    "\n",
    "# for n in soup.select('#my-posts > div:nth-child(n) > div > div > div > div > div > div > a > h3'):\n",
    "#     name.append(n.get_text().strip())"
   ]
  },
  {
   "cell_type": "code",
   "execution_count": null,
   "id": "9babee5c",
   "metadata": {},
   "outputs": [],
   "source": [
    "search=pd.DataFrame(columns=['Name'])\n",
    "\n",
    "for n in soup.select('div > a > h3'):\n",
    "    name = n.get_text().strip()\n",
    "    search=pd.concat([search,pd.DataFrame({'Name':[name]})],ignore_index=True)"
   ]
  },
  {
   "cell_type": "code",
   "execution_count": null,
   "id": "b5e89ec0",
   "metadata": {},
   "outputs": [],
   "source": [
    "search"
   ]
  },
  {
   "cell_type": "code",
   "execution_count": null,
   "id": "1d933672",
   "metadata": {},
   "outputs": [],
   "source": [
    "# c=input('Is the game in this list?  0 : No, 1 : Yes - ')"
   ]
  },
  {
   "cell_type": "code",
   "execution_count": null,
   "id": "8774229e",
   "metadata": {},
   "outputs": [],
   "source": [
    "# if c==0:\n",
    "#     x= input('Please enter title differently: ')\n",
    "#     url= "
   ]
  },
  {
   "cell_type": "code",
   "execution_count": null,
   "id": "d3915721",
   "metadata": {},
   "outputs": [],
   "source": [
    "b= int(input('Enter the number you see your title on: '))"
   ]
  },
  {
   "cell_type": "code",
   "execution_count": null,
   "id": "2e360435",
   "metadata": {},
   "outputs": [],
   "source": [
    "\n",
    "m=search['Name'][b].lower()\n",
    "#m=re.sub(\"'\",'',m)\n",
    "m=re.sub(r'[^a-zA-Z0-9]+', '-', m)\n",
    "m = re.sub(\"é\",'e',m)"
   ]
  },
  {
   "cell_type": "code",
   "execution_count": null,
   "id": "fb75ae71",
   "metadata": {},
   "outputs": [],
   "source": [
    "m"
   ]
  },
  {
   "cell_type": "code",
   "execution_count": null,
   "id": "75c5fcfa",
   "metadata": {},
   "outputs": [],
   "source": [
    "url2=f\"https://www.backloggd.com/games/{m}/\"\n",
    "#use this to scrape info about the game from the site"
   ]
  },
  {
   "cell_type": "code",
   "execution_count": null,
   "id": "0d632ba6",
   "metadata": {},
   "outputs": [],
   "source": [
    "url2"
   ]
  },
  {
   "cell_type": "code",
   "execution_count": null,
   "id": "5aa935af",
   "metadata": {},
   "outputs": [],
   "source": [
    "response=requests.get(url2)\n",
    "response"
   ]
  },
  {
   "cell_type": "code",
   "execution_count": null,
   "id": "058feb05",
   "metadata": {},
   "outputs": [],
   "source": [
    "soup=BeautifulSoup(response.content,\"html.parser\")"
   ]
  },
  {
   "cell_type": "code",
   "execution_count": null,
   "id": "ebc48620",
   "metadata": {},
   "outputs": [],
   "source": [
    "t=[t.get_text().strip() for t in soup.select('#title')]\n",
    "t= re.sub('\\n+',' ',t[1])\n",
    "t= re.sub('\\t+','',t)\n",
    "t"
   ]
  },
  {
   "cell_type": "code",
   "execution_count": null,
   "id": "cca5b7d0",
   "metadata": {},
   "outputs": [],
   "source": [
    "soup.select('#title')"
   ]
  },
  {
   "cell_type": "markdown",
   "id": "b781cc41",
   "metadata": {},
   "source": [
    "### getting categorical data"
   ]
  },
  {
   "cell_type": "code",
   "execution_count": null,
   "id": "abe97e85",
   "metadata": {},
   "outputs": [],
   "source": [
    "#scraped_game= pd.DataFrame(columns=['platforms','genres','rating','plays','playing','backlogs','wishlist','lists','reviews'])"
   ]
  },
  {
   "cell_type": "code",
   "execution_count": null,
   "id": "dd050248",
   "metadata": {},
   "outputs": [],
   "source": [
    "platforms=pd.DataFrame(0,index=[0],columns=pl_cols)"
   ]
  },
  {
   "cell_type": "code",
   "execution_count": null,
   "id": "17312aae",
   "metadata": {},
   "outputs": [],
   "source": [
    "platforms"
   ]
  },
  {
   "cell_type": "code",
   "execution_count": null,
   "id": "d9a8d024",
   "metadata": {},
   "outputs": [],
   "source": [
    "pf=[]\n",
    "for  p in soup.select('div > a.game-page-platform '):\n",
    "    pf.append(p.get_text().strip().lower().replace(' ','_'))\n",
    "    \n",
    "pf"
   ]
  },
  {
   "cell_type": "code",
   "execution_count": null,
   "id": "084cfeab",
   "metadata": {},
   "outputs": [],
   "source": [
    "for i in pf:\n",
    "    if i in platforms.columns:\n",
    "        platforms[i]=1"
   ]
  },
  {
   "cell_type": "code",
   "execution_count": null,
   "id": "6163cd92",
   "metadata": {},
   "outputs": [],
   "source": [
    "platforms"
   ]
  },
  {
   "cell_type": "code",
   "execution_count": null,
   "id": "f06f4537",
   "metadata": {},
   "outputs": [],
   "source": [
    "#soup.select('#game-body > div> div:nth-child(n) > div> div:nth-child(n) > div > a')"
   ]
  },
  {
   "cell_type": "code",
   "execution_count": null,
   "id": "9c0430a4",
   "metadata": {},
   "outputs": [],
   "source": [
    "#game-body > div.col > div:nth-child(2) > div.col-lg-4.mt-1.mt-lg-2.col-12 > div:nth-child(4) > div > p > a"
   ]
  },
  {
   "cell_type": "code",
   "execution_count": null,
   "id": "7f97e958",
   "metadata": {},
   "outputs": [],
   "source": [
    "genres= pd.DataFrame(0,index=[0],columns=ge_cols)"
   ]
  },
  {
   "cell_type": "code",
   "execution_count": null,
   "id": "74dde74c",
   "metadata": {},
   "outputs": [],
   "source": [
    "ge=[]\n",
    "for g in soup.select('div > p.genre-tag > a'):\n",
    "    ge.append(g.get_text().strip().lower().replace(' ','_'))\n",
    "ge"
   ]
  },
  {
   "cell_type": "code",
   "execution_count": null,
   "id": "07802fc2",
   "metadata": {},
   "outputs": [],
   "source": [
    "for g in ge:\n",
    "    if g in genres.columns:\n",
    "        genres[g]=1"
   ]
  },
  {
   "cell_type": "code",
   "execution_count": null,
   "id": "eacc39cb",
   "metadata": {},
   "outputs": [],
   "source": [
    "genres"
   ]
  },
  {
   "cell_type": "markdown",
   "id": "ce3d9be6",
   "metadata": {},
   "source": [
    "### getting numeric data"
   ]
  },
  {
   "cell_type": "code",
   "execution_count": null,
   "id": "6fb82c91",
   "metadata": {},
   "outputs": [],
   "source": [
    "num_data=pd.DataFrame(0,index=[0],columns=['rating','plays','playing','backlogs','wishlist','lists','reviews'])"
   ]
  },
  {
   "cell_type": "code",
   "execution_count": null,
   "id": "e7823a1c",
   "metadata": {},
   "outputs": [],
   "source": [
    "num_data['rating']= float(soup.select('#score > h1')[0].get_text().strip())"
   ]
  },
  {
   "cell_type": "code",
   "execution_count": null,
   "id": "008cfa3b",
   "metadata": {},
   "outputs": [],
   "source": [
    "for index, column in enumerate(num_data.columns[1:5]):\n",
    "    num_data[column]=soup.select('div.col-auto.ml-auto.pl-0 > p')[index].get_text().strip()\n",
    "    num_data[column]=num_data[column].replace({\"K\":\"*1e3\"}, regex=True).map(pd.eval).astype(int)"
   ]
  },
  {
   "cell_type": "code",
   "execution_count": null,
   "id": "752ccd98",
   "metadata": {},
   "outputs": [],
   "source": [
    "for index, column in enumerate(num_data.columns[5:]):\n",
    "    num_data[column]=soup.select('div > a > p.game-page-sidecard')[index].get_text().strip()\n",
    "    num_data[column]=num_data[column].str.split(' ').str[0]\n",
    "    num_data[column]=num_data[column].replace({\"K\":\"*1e3\"}, regex=True).map(pd.eval).astype(int)"
   ]
  },
  {
   "cell_type": "code",
   "execution_count": null,
   "id": "ba920ea5",
   "metadata": {},
   "outputs": [],
   "source": [
    "num_data"
   ]
  },
  {
   "cell_type": "code",
   "execution_count": null,
   "id": "74cdc4b3",
   "metadata": {},
   "outputs": [],
   "source": [
    "num_data.dtypes"
   ]
  },
  {
   "cell_type": "markdown",
   "id": "81a22f39",
   "metadata": {},
   "source": [
    "#### scaling the numerical"
   ]
  },
  {
   "cell_type": "code",
   "execution_count": null,
   "id": "a85df5d5",
   "metadata": {},
   "outputs": [],
   "source": [
    "scaler=pickle.load(open('models/scaler.sav','rb'))"
   ]
  },
  {
   "cell_type": "code",
   "execution_count": null,
   "id": "c7a6017c",
   "metadata": {},
   "outputs": [],
   "source": [
    "num_trans=pd.DataFrame(scaler.transform(num_data),columns= num_data.columns)"
   ]
  },
  {
   "cell_type": "code",
   "execution_count": null,
   "id": "931bbc6b",
   "metadata": {},
   "outputs": [],
   "source": [
    "num_trans"
   ]
  },
  {
   "cell_type": "markdown",
   "id": "9584137e",
   "metadata": {},
   "source": [
    "### Final Data"
   ]
  },
  {
   "cell_type": "code",
   "execution_count": null,
   "id": "27487785",
   "metadata": {},
   "outputs": [],
   "source": [
    "final_data=pd.concat([num_trans,platforms,genres],axis=1)"
   ]
  },
  {
   "cell_type": "code",
   "execution_count": null,
   "id": "952caeb5",
   "metadata": {},
   "outputs": [],
   "source": [
    "final_data"
   ]
  },
  {
   "cell_type": "markdown",
   "id": "fc69d046",
   "metadata": {},
   "source": [
    "### Cluster prediction"
   ]
  },
  {
   "cell_type": "code",
   "execution_count": null,
   "id": "4fbdab2b",
   "metadata": {},
   "outputs": [],
   "source": [
    "pred=model.predict(final_data)"
   ]
  },
  {
   "cell_type": "code",
   "execution_count": null,
   "id": "e948ade2",
   "metadata": {},
   "outputs": [],
   "source": [
    "pred"
   ]
  },
  {
   "cell_type": "code",
   "execution_count": null,
   "id": "c13dc007",
   "metadata": {},
   "outputs": [],
   "source": [
    "sorted_games[sorted_games['clusters']==pred[0]]"
   ]
  },
  {
   "cell_type": "code",
   "execution_count": null,
   "id": "8d1a86b2",
   "metadata": {},
   "outputs": [],
   "source": [
    "sorted_games[sorted_games['clusters']==pred[0]]"
   ]
  },
  {
   "cell_type": "code",
   "execution_count": null,
   "id": "412debd8",
   "metadata": {},
   "outputs": [],
   "source": []
  }
 ],
 "metadata": {
  "kernelspec": {
   "display_name": "Python 3 (ipykernel)",
   "language": "python",
   "name": "python3"
  },
  "language_info": {
   "codemirror_mode": {
    "name": "ipython",
    "version": 3
   },
   "file_extension": ".py",
   "mimetype": "text/x-python",
   "name": "python",
   "nbconvert_exporter": "python",
   "pygments_lexer": "ipython3",
   "version": "3.11.3"
  }
 },
 "nbformat": 4,
 "nbformat_minor": 5
}
